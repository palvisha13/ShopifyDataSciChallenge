{
  "nbformat": 4,
  "nbformat_minor": 0,
  "metadata": {
    "colab": {
      "name": "Shopify 2022 Summer Challenge",
      "provenance": [],
      "collapsed_sections": [],
      "authorship_tag": "ABX9TyO4cTDMc61zIKhcE9wyv9lC"
    },
    "kernelspec": {
      "name": "python3",
      "display_name": "Python 3"
    },
    "language_info": {
      "name": "python"
    }
  },
  "cells": [
    {
      "cell_type": "code",
      "execution_count": null,
      "metadata": {
        "id": "X-ic8Ppnn1_R",
        "colab": {
          "base_uri": "https://localhost:8080/",
          "height": 53
        },
        "outputId": "39e505c1-ab30-41b6-d574-2800b0c97b84"
      },
      "outputs": [
        {
          "output_type": "execute_result",
          "data": {
            "application/vnd.google.colaboratory.intrinsic+json": {
              "type": "string"
            },
            "text/plain": [
              "'\\nThis notebook preforms an analysis of the data on shoe orders from 100 Shopify stores.\\nThe purpose is to explore any trends and distributions within the data.\\nThe data set can be found here: \\n--------------------------\\nAuthor: Palvisha Sharma\\n'"
            ]
          },
          "metadata": {},
          "execution_count": 8
        }
      ],
      "source": [
        "\"\"\"\n",
        "This notebook preforms an analysis of the data on shoe orders from 100 Shopify stores.\n",
        "The purpose is to explore any trends and distributions within the data.\n",
        "--------------------------\n",
        "Author: Palvisha Sharma\n",
        "\"\"\"\n"
      ]
    },
    {
      "cell_type": "code",
      "source": [
        "# import libraries\n",
        "# since I am working on google colab, lines 7 and 8 refer to the \n",
        "# drive being mounted so that I can work with the sample data \n",
        "\n",
        "import pandas as pd\n",
        "import matplotlib.pyplot as plt\n",
        "import seaborn as sns \n",
        "import statistics\n",
        "import numpy as np\n",
        "from google.colab import drive\n",
        "from google.colab import files\n",
        "drive.mount(\"/content/drive\")\n",
        "sns.set()\n"
      ],
      "metadata": {
        "id": "iAZ52G_joKI5",
        "colab": {
          "base_uri": "https://localhost:8080/"
        },
        "outputId": "84e44e96-a387-4d61-893c-12203cf59cbe"
      },
      "execution_count": null,
      "outputs": [
        {
          "output_type": "stream",
          "name": "stdout",
          "text": [
            "Mounted at /content/drive\n"
          ]
        }
      ]
    },
    {
      "cell_type": "markdown",
      "source": [
        "# Exploratory Data Analysis\n"
      ],
      "metadata": {
        "id": "pavSsForpcHh"
      }
    },
    {
      "cell_type": "code",
      "source": [
        "# importing and printing the data header\n",
        "\n",
        "df = pd.read_csv(\"/content/drive/My Drive/Colab Notebooks/data/ShopifyChallengeData.csv\")\n",
        "print(df.head())"
      ],
      "metadata": {
        "id": "TuO1jbfRpbF1",
        "colab": {
          "base_uri": "https://localhost:8080/"
        },
        "outputId": "74973f32-76d1-4e4f-cf30-145a31c9e69b"
      },
      "execution_count": null,
      "outputs": [
        {
          "output_type": "stream",
          "name": "stdout",
          "text": [
            "   order_id  shop_id  user_id  ...  total_items  payment_method           created_at\n",
            "0         1       53      746  ...            2            cash  2017-03-13 12:36:56\n",
            "1         2       92      925  ...            1            cash  2017-03-03 17:38:52\n",
            "2         3       44      861  ...            1            cash   2017-03-14 4:23:56\n",
            "3         4       18      935  ...            1     credit_card  2017-03-26 12:43:37\n",
            "4         5       18      883  ...            1     credit_card   2017-03-01 4:35:11\n",
            "\n",
            "[5 rows x 7 columns]\n"
          ]
        }
      ]
    },
    {
      "cell_type": "code",
      "source": [
        "# ensure that there are no null values in the data set\n",
        "df.isnull().sum()"
      ],
      "metadata": {
        "colab": {
          "base_uri": "https://localhost:8080/"
        },
        "id": "E4a6lPfL661N",
        "outputId": "c12fe959-2957-4f8f-ae35-6d0e857a310d"
      },
      "execution_count": null,
      "outputs": [
        {
          "output_type": "execute_result",
          "data": {
            "text/plain": [
              "order_id          0\n",
              "shop_id           0\n",
              "user_id           0\n",
              "order_amount      0\n",
              "total_items       0\n",
              "payment_method    0\n",
              "created_at        0\n",
              "dtype: int64"
            ]
          },
          "metadata": {},
          "execution_count": 4
        }
      ]
    },
    {
      "cell_type": "markdown",
      "source": [
        "There are no null values in the data set"
      ],
      "metadata": {
        "id": "CKY7k_qB7T_z"
      }
    },
    {
      "cell_type": "code",
      "source": [
        "# determining the columns in the data\n",
        "\n",
        "df.columns"
      ],
      "metadata": {
        "colab": {
          "base_uri": "https://localhost:8080/"
        },
        "id": "gXHmKpEqxGWQ",
        "outputId": "f23761e1-76b0-4603-bf72-c66f0e160ebd"
      },
      "execution_count": null,
      "outputs": [
        {
          "output_type": "execute_result",
          "data": {
            "text/plain": [
              "Index(['order_id', 'shop_id', 'user_id', 'order_amount', 'total_items',\n",
              "       'payment_method', 'created_at'],\n",
              "      dtype='object')"
            ]
          },
          "metadata": {},
          "execution_count": 5
        }
      ]
    },
    {
      "cell_type": "code",
      "source": [
        "# determining the shape of our data, this can be used to determine the \n",
        "# number of features and amount of data \n",
        "df.shape"
      ],
      "metadata": {
        "colab": {
          "base_uri": "https://localhost:8080/"
        },
        "id": "BDr93WEPwmzx",
        "outputId": "bf3f2ef0-de51-447b-d11a-a28edfceeb72"
      },
      "execution_count": null,
      "outputs": [
        {
          "output_type": "execute_result",
          "data": {
            "text/plain": [
              "(5000, 7)"
            ]
          },
          "metadata": {},
          "execution_count": 34
        }
      ]
    },
    {
      "cell_type": "code",
      "source": [
        "# since the point of focus is the order amount, I will preform an analysis of the data below\n",
        "print(df[\"order_amount\"])"
      ],
      "metadata": {
        "colab": {
          "base_uri": "https://localhost:8080/"
        },
        "id": "Ca-eP8V6yOp1",
        "outputId": "d5cb857a-185e-4e6a-9478-441d7223ae8c"
      },
      "execution_count": null,
      "outputs": [
        {
          "output_type": "stream",
          "name": "stdout",
          "text": [
            "0       224\n",
            "1        90\n",
            "2       144\n",
            "3       156\n",
            "4       156\n",
            "       ... \n",
            "4995    330\n",
            "4996    234\n",
            "4997    351\n",
            "4998    354\n",
            "4999    288\n",
            "Name: order_amount, Length: 5000, dtype: int64\n"
          ]
        }
      ]
    },
    {
      "cell_type": "code",
      "source": [
        "# maximum value in the data set \n",
        "df[\"order_amount\"].max()"
      ],
      "metadata": {
        "colab": {
          "base_uri": "https://localhost:8080/"
        },
        "id": "rvKY6rW653JG",
        "outputId": "a127279a-f8c2-4dcf-f7cb-9bb8d6d9bec9"
      },
      "execution_count": null,
      "outputs": [
        {
          "output_type": "execute_result",
          "data": {
            "text/plain": [
              "704000"
            ]
          },
          "metadata": {},
          "execution_count": 8
        }
      ]
    },
    {
      "cell_type": "code",
      "source": [
        "# minimum value in the data set\n",
        "df[\"order_amount\"].min()"
      ],
      "metadata": {
        "colab": {
          "base_uri": "https://localhost:8080/"
        },
        "id": "SRBxn5QK6DLz",
        "outputId": "070c51ac-752f-409e-f0c8-162a57646b8e"
      },
      "execution_count": null,
      "outputs": [
        {
          "output_type": "execute_result",
          "data": {
            "text/plain": [
              "90"
            ]
          },
          "metadata": {},
          "execution_count": 9
        }
      ]
    },
    {
      "cell_type": "markdown",
      "source": [
        "Looking at the maxiumum and minimum amounts, the maximum amount is unreasonably high (definitely a lot closer to house prices in toronto than a shoe). Extreme data points such as this, skew the mean of the data, which is why the average is much higher than expected. "
      ],
      "metadata": {
        "id": "COc_XHCx6Wtm"
      }
    },
    {
      "cell_type": "code",
      "source": [
        "# mean of the order_amount \n",
        "df[\"order_amount\"].mean()\n"
      ],
      "metadata": {
        "colab": {
          "base_uri": "https://localhost:8080/"
        },
        "id": "_8PLEvD60inu",
        "outputId": "3d77a2c6-a17c-476e-bd7f-898dc4e016bc"
      },
      "execution_count": null,
      "outputs": [
        {
          "output_type": "execute_result",
          "data": {
            "text/plain": [
              "3145.128"
            ]
          },
          "metadata": {},
          "execution_count": 10
        }
      ]
    },
    {
      "cell_type": "code",
      "source": [
        "# median of the order_amount\n",
        "\n",
        "df[\"order_amount\"].median()\n"
      ],
      "metadata": {
        "colab": {
          "base_uri": "https://localhost:8080/"
        },
        "id": "B_BHPuGQ5wEv",
        "outputId": "e94f1f2e-0a03-4b32-9bc2-427457f60b1d"
      },
      "execution_count": null,
      "outputs": [
        {
          "output_type": "execute_result",
          "data": {
            "text/plain": [
              "284.0"
            ]
          },
          "metadata": {},
          "execution_count": 11
        }
      ]
    },
    {
      "cell_type": "code",
      "source": [
        "# mode of the order_amount\n",
        "\n",
        "df[\"order_amount\"].mode()\n"
      ],
      "metadata": {
        "colab": {
          "base_uri": "https://localhost:8080/"
        },
        "id": "bfeVM-FC-APH",
        "outputId": "bf71bdf8-7cb9-41c4-f9ef-1049f7877d73"
      },
      "execution_count": null,
      "outputs": [
        {
          "output_type": "execute_result",
          "data": {
            "text/plain": [
              "0    153\n",
              "dtype: int64"
            ]
          },
          "metadata": {},
          "execution_count": 12
        }
      ]
    },
    {
      "cell_type": "code",
      "source": [
        "# standard deviation of my data \n",
        "df[\"order_amount\"].std()"
      ],
      "metadata": {
        "colab": {
          "base_uri": "https://localhost:8080/"
        },
        "id": "EseEISv5B2k1",
        "outputId": "c6e2275c-6683-4f59-adfe-39495878017e"
      },
      "execution_count": null,
      "outputs": [
        {
          "output_type": "execute_result",
          "data": {
            "text/plain": [
              "41282.539348788196"
            ]
          },
          "metadata": {},
          "execution_count": 13
        }
      ]
    },
    {
      "cell_type": "markdown",
      "source": [
        "The standard deviation of my data is very high, suggesting that most data points do not agree with the AOV. This confirms that the mean is not an appropriate metric for the AOV."
      ],
      "metadata": {
        "id": "H-3gzxHmCPgq"
      }
    },
    {
      "cell_type": "code",
      "source": [
        "# I can represent the data points relative to the median through a box plot\n",
        "# to get a better understanding of the general data that I have, and any outliers\n",
        "\n",
        "plt.figure(figsize=(20,10))\n",
        "plt.yscale(\"log\")\n",
        "plt.boxplot(df[\"order_amount\"])\n",
        "plt.show()\n"
      ],
      "metadata": {
        "colab": {
          "base_uri": "https://localhost:8080/",
          "height": 595
        },
        "id": "jMndACtAAvbH",
        "outputId": "e2b09462-a5b9-4f9b-b4fd-42d595c194d0"
      },
      "execution_count": null,
      "outputs": [
        {
          "output_type": "display_data",
          "data": {
            "image/png": "[encoded data removed]",
            "text/plain": [
              "<Figure size 1440x720 with 1 Axes>"
            ]
          },
          "metadata": {}
        }
      ]
    },
    {
      "cell_type": "markdown",
      "source": [
        "I can see that my data is skewed, and does not follow a normal distribution since the median is not centered withing the boxplot. I can also see that the interquartile range is within an order of magnitude of 10^2, as well as the maximum and minimum values, suggesting that the order amounts enerally fall within the  100s range. The outliers are in the thousands. Therefore, a good order of magnitude estimate for the AOV would be 10^2. I can analyze my data's distribution better with a histogram."
      ],
      "metadata": {
        "id": "8lSV9f2DA6An"
      }
    },
    {
      "cell_type": "code",
      "source": [
        "# plot the distribution of order amounts \n",
        "\n",
        "plt.figure(figsize=(20,10))\n",
        "plt.hist(df[\"order_amount\"])\n",
        "plt.title(\"Order Amount Histogram\")\n",
        "plt.xlabel(\"Order Amount\")\n",
        "plt.ylabel(\"Number of Orders\")\n",
        "plt.show()\n",
        "\n",
        " "
      ],
      "metadata": {
        "colab": {
          "base_uri": "https://localhost:8080/",
          "height": 627
        },
        "id": "XBX0HwXm9M9W",
        "outputId": "502978a9-e6c9-4e28-b01f-552e59aacd33"
      },
      "execution_count": null,
      "outputs": [
        {
          "output_type": "display_data",
          "data": {
            "image/png": "[encoded data removed]",
            "text/plain": [
              "<Figure size 1440x720 with 1 Axes>"
            ]
          },
          "metadata": {}
        }
      ]
    },
    {
      "cell_type": "markdown",
      "source": [
        "I know that there must be some values that fall on the 700 000 section of the histogram due to my analysis above, however my histogram does not show those values.  This is because of the extreme difference in order amounts, with the maximum being in the thousands, compared to the most common value in the hundreds (as per the calculated mode)"
      ],
      "metadata": {
        "id": "Wgmy05Z1xwuK"
      }
    },
    {
      "cell_type": "code",
      "source": [
        "# another attempt at plotting my histogram by scaling with logarithmic scaling.\n",
        "\n",
        "plt.figure(figsize=(20,10))\n",
        "plt.yscale(\"log\")\n",
        "plt.hist(df[\"order_amount\"])\n",
        "plt.title(\"Order Amount Histogram\")\n",
        "plt.xlabel(\"Order Amount\")\n",
        "plt.ylabel(\"Frequency\")\n",
        "plt.show()\n"
      ],
      "metadata": {
        "colab": {
          "base_uri": "https://localhost:8080/",
          "height": 627
        },
        "id": "ElflCPydx6lJ",
        "outputId": "ccee09fb-d4c2-4eee-a83d-faeb846e57c5"
      },
      "execution_count": null,
      "outputs": [
        {
          "output_type": "display_data",
          "data": {
            "image/png": "[encoded data removed]",
            "text/plain": [
              "<Figure size 1440x720 with 1 Axes>"
            ]
          },
          "metadata": {}
        }
      ]
    },
    {
      "cell_type": "markdown",
      "source": [
        "This is much better! Now, I have a  histogram of the data in the `order_ammount` column that is readable. I did not normalize this histogram since the y axis was scaled logarithmically, which would make the y axis less intuitive to understand if the histogram was normalized before the yaxis was scaled. The shape of the expected histogram is preserved.\n",
        "\n",
        "Looking at this histogram, the data is skewed to the right since it is an asymmetric distribution with a right ended tail. This means that the mean is higher than the middle and most frequently occuring values, confirming that it is not a good representation of the data. \n",
        "\n",
        "The histogram also represents a skew in the distribution of continuous data rather than categorical, as such I will opt to report the median of the `order_amount`, rather than the mode. The median better represents continuous data that does not follow a normal distribution, and the mode better represents the distribution of categorical (non-continuous) data. Although, both can be reported for a continuous data set.\n",
        "\n",
        "The median of the order amounts is 284.00 hence, I can expect the AOV and general cost of shoes from the shopify stores to be around $ 284.00."
      ],
      "metadata": {
        "id": "mjoHwbhe4e1A"
      }
    },
    {
      "cell_type": "markdown",
      "source": [
        "Looking at the above exploration of the data provided, it is evident that the mistake made in calculating the AOV by taking the average of values was that the distribution of the data was not considered. The mean best represents data that follows a normal distrbution as it is an appropriate measure of central tendency in normal distrbutions. However, the data for the order amounts did not follow a normal distribution, and a better measure of central tendency was determined to be the median. As well, considering that the maximum order amount is around ~700K, nowhere near the general cost of shoes, it is clear that the average of these values would be very skewed (as determined).\n",
        "\n",
        "I decided to check one more thing with the data and calculate the average cost of each shoe below.  "
      ],
      "metadata": {
        "id": "-dz-Wwuq397W"
      }
    },
    {
      "cell_type": "code",
      "source": [
        "# average cost of each shoe\n",
        "# the average cost of each shoe is the total amount of money spent on shoes across all orders\n",
        "# divided by the total number of shoes purchased across all orders \n",
        "\n",
        "avg_shoe_cost = np.sum(df[\"order_amount\"]/ np.sum(df[\"total_items\"]))\n",
        "print(avg_shoe_cost)"
      ],
      "metadata": {
        "colab": {
          "base_uri": "https://localhost:8080/"
        },
        "id": "eJI9V12WlEfC",
        "outputId": "ac54e797-0e36-4aa1-f863-5e54bf92bce6"
      },
      "execution_count": null,
      "outputs": [
        {
          "output_type": "stream",
          "name": "stdout",
          "text": [
            "357.9215222141296\n"
          ]
        }
      ]
    },
    {
      "cell_type": "markdown",
      "source": [
        "The average cost of each shoe calculated is around 358 dollars, while my reported AOV is 284. Thus, the median is a decent metric for the AOV."
      ],
      "metadata": {
        "id": "Cy20USoglvWY"
      }
    }
  ]
}